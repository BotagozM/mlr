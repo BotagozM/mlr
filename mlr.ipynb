import os
import numpy as np
import pandas as pd
import matplotlib.pyplot as plt

data = pd.read_csv('./house_price_multi.csv', header=None)

def normalize(value):

    Val_norm = (value - np.mean(value)) / (value.max() - value.min())
    
    return Val_norm
    
    new_data = normalize(data)
new_data.head()

def costCalculation(X, y, theta):
    m = y.size

    predictions = np.dot(X, theta.T)

    sqErrors = (predictions - y) ** 2

    J = (1.0 / (2 * m)) * sqErrors.sum()

    return J
    
    X = new_data.iloc[:, :2]
ones = np.ones([X.shape[0], 1])
X = np.concatenate((ones, X), axis=1)

y = new_data.iloc[:, 2:3].values
theta = np.zeros([1, 3])

alpha = 0.01
num_iters = 1000

def gradientDescent(X, y, theta, alpha, num_iters):

    m = y.size
    cost_ = np.zeros(num_iters)
    theta_ = np.zeros((num_iters,2))
    
    for i in range(num_iters):

        predictions =  np.dot(X, theta.T)

        theta = theta - (alpha / m) * np.sum(X * ((predictions) - y),axis=0)
        cost_[i] = costCalculation(X, y, theta)
      
    
    return theta,cost_
    
    grad, cost = gradientDescent(X, y, theta, alpha, num_iters)
print(grad)
print(cost)

costCalculation(X,y,theta)
cost_=costCalculation(X,y,theta)

fig, ax = plt.figure(), plt.axes()  
ax.plot(np.arange(num_iters), cost)
plt.show()
